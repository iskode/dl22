{
 "cells": [
  {
   "cell_type": "markdown",
   "metadata": {
    "colab_type": "text",
    "id": "mEB4b33cMG-V"
   },
   "source": [
    "# Séance 2: Au coeur des neurones\n",
    "\n",
    "Adapté du Practical 1b de Deep Learning Indaba 2019.\n",
    "© Deep Learning Indaba. Apache License 2.0."
   ]
  },
  {
   "cell_type": "markdown",
   "metadata": {
    "colab_type": "text",
    "id": "WOxz_rxOMNr_"
   },
   "source": [
    "## Introduction"
   ]
  },
  {
   "cell_type": "markdown",
   "metadata": {
    "colab_type": "text",
    "id": "SBNjby3_MPtI"
   },
   "source": [
    "Dans cette pratique, nous allons créer un petit framework Python qui nous permet d' entraîner nos propres réseaux de neurones, comme le fait PyTorch. Notre framework ne dépendra que de `numpy`. En travaillant sur cette pratique, vous aurez l'occasion de comprendre plus en détail le fonctionnement des frameworks modernes d'apprentissage en profondeur et l'idée de base de la différenciation automatique, qui est une technique logicielle puissante qui nous permet de calculer rapidement et facilement des gradients pour toutes sortes de programmes numériques."
   ]
  },
  {
   "cell_type": "markdown",
   "metadata": {
    "colab_type": "text",
    "id": "SuEFKaqiqe3q"
   },
   "source": [
    "$$ \n",
    "\\newcommand{\\vec}[1]{\\mathbf{#1}}\n",
    "\\newcommand{\\vechat}[1]{\\hat{\\mathbf{#1}}}\n",
    "\\newcommand{\\x}{\\vec{x}}\n",
    "\\newcommand{\\utheta}{θ}\n",
    "\\newcommand{\\th}{\\vec{\\utheta}}\n",
    "\\newcommand{\\y}{\\vec{y}}\n",
    "\\newcommand{\\b}{\\vec{b}}\n",
    "\\newcommand{\\W}{\\textrm{W}}\n",
    "\\newcommand{\\L}{\\mathcal{L}}\n",
    "\\newcommand{\\xhat}{\\vechat{x}}\n",
    "\\newcommand{\\yhat}{\\vechat{y}}\n",
    "\\newcommand{\\bhat}{\\vechat{b}}\n",
    "\\newcommand{\\What}{\\hat{\\W}}\n",
    "\\newcommand{\\partialfrac}[2]{\\frac{\\partial{#1}}{\\partial{#2}}}\n",
    "\\newcommand{\\ipartialfrac}[2]{{\\partial{#1}}/{\\partial{#2}}}\n",
    "\\newcommand{\\dydx}{\\partialfrac{\\y}{\\x}}\n",
    "\\newcommand{\\dld}[1]{\\partialfrac{\\L}{#1}}\n",
    "\\newcommand{\\dldx}{\\dld{\\x}}\n",
    "\\newcommand{\\dldy}{\\dld{\\y}}\n",
    "\\newcommand{\\dldw}{\\dld{W}}\n",
    "\\newcommand{\\idld}[1]{\\ipartialfrac{\\L}{#1}}\n",
    "\\newcommand{\\idldx}{\\idld{\\x}}\n",
    "\\newcommand{\\idldy}{\\idld{\\y}}\n",
    "\\newcommand{\\idydx}{\\ipartialfrac{\\y}{\\x}}\n",
    "\\newcommand{\\red}[1]{\\color{red}{#1}}\n",
    "\\newcommand{\\green}[1]{\\color{green}{#1}}\n",
    "\\newcommand{\\blue}[1]{\\color{blue}{#1}}\n",
    "\\newcommand{\\because}[1]{&& \\triangleright \\textrm{#1}}\n",
    "\\newcommand{\\relu}[1]{\\textrm{relu}({#1})}\n",
    "\\newcommand{\\step}[1]{\\textrm{step}({#1})}\n",
    "\\newcommand{\\gap}{\\hspace{0.5mm}}\n",
    "\\newcommand{\\gapp}{\\hspace{1mm}}\n",
    "\\newcommand{\\ngap}{\\hspace{-0.5mm}}\n",
    "\\newcommand{\\ngapp}{\\hspace{-1mm}}\n",
    "$$"
   ]
  },
  {
   "cell_type": "markdown",
   "metadata": {
    "colab_type": "text",
    "id": "rnyKdnXqv2pr"
   },
   "source": [
    "## Objectifs"
   ]
  },
  {
   "cell_type": "markdown",
   "metadata": {
    "colab_type": "text",
    "id": "ECHxDVDGv5ks"
   },
   "source": [
    "* Comprendre le terme **differenciation automatique**.\n",
    "* Comprendre les passes **forward** et **backward** et leurs applications.\n",
    "* Comprendre les **produits vecteur-jacobiens** impliqués dans la rétropropagation.\n",
    "* Comprendre les calculs mathématiques **des gradients** pour la passe arrière.\n",
    "* Implémenter toutes les étapes impliquées dans l'entraînement d'un simple **perceptron multicouche (MLP)** pour résoudre la tâche de prédiction de chiffres MNIST."
   ]
  },
  {
   "cell_type": "markdown",
   "metadata": {},
   "source": [
    "## Structure d'un réseaux de neurones"
   ]
  },
  {
   "cell_type": "markdown",
   "metadata": {},
   "source": [
    "* Un réseau de neurones est une composition de fonction linéaires et non linéaires.\n",
    "\n",
    "* En général, les fonctions linéaires ont des paramètres et les fonction non linéaires n'en ont pas.\n",
    "\n",
    "* Les paramètres du réseau représentent la collection de celles des fonctions la composant."
   ]
  },
  {
   "cell_type": "markdown",
   "metadata": {
    "colab_type": "text",
    "id": "RtaJZQhO4I7w"
   },
   "source": [
    "<center><img src=\"data:image/png;base64,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\"\n",
    "height=\"100\"></center>\n"
   ]
  },
  {
   "cell_type": "markdown",
   "metadata": {
    "colab_type": "text",
    "id": "zoOMr0HPRZiF"
   },
   "source": [
    "<center><img src=\"data:image/png;base64,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\"\n",
    "height=\"100\"></center>\n"
   ]
  },
  {
   "cell_type": "markdown",
   "metadata": {},
   "source": [
    "#### Pour $f_i$ linéaire, on a:"
   ]
  },
  {
   "cell_type": "markdown",
   "metadata": {
    "colab_type": "text",
    "id": "GK2hdgNDm_iD"
   },
   "source": [
    "<center><img src=\"data:image/png;base64,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\"\n",
    "height=\"100\"></center>"
   ]
  },
  {
   "cell_type": "markdown",
   "metadata": {},
   "source": [
    "$\\y = \\x  \\W + \\b$ "
   ]
  },
  {
   "cell_type": "markdown",
   "metadata": {},
   "source": [
    "## Algorithme de la descente du gradient et Backward\n",
    "\n",
    "Le but de l'entraînement d'un réseau est de trouver les valeurs des paramètres $\\th$ permettant de réaliser le correctement la tâche visée.\n",
    "\n",
    "Pour cela, on définit une fonction \"**loss $\\L$** \"  qui deux caractéristiques principales:\n",
    "1. mesure le niveau de performance du réseau par rapport à la tâche voulue\n",
    "2. est différentiable (pourquoi ?)\n",
    "\n",
    "En général, on choisit $\\L$ de sorte que plus faible est sa valeur mieux est sa performance ce qui revient à une minimisation de $\\L$.\n",
    "\n",
    "Soit un réseau de neurones $F(.; \\th) = f_n \\circ f_{n-1} \\circ ... \\circ f_1 $,  $x$ un ensemble de vecteur d'entrées, $y'$ l'ensemble de labels ou d'étiquettes associés à $x$, l'entraînement de $F$ consiste en la séquence d'opérations suivantes:\n",
    "\n",
    "1. Initialiser $\\th$ de $F(.; \\th)$\n",
    "1. Calculer $y =  F(x; \\th)$\n",
    "2. Calculer $\\L(y, y') =  \\L(F(x; \\th), y')$\n",
    "2. Calculer les gradients de $\\L$ par rapport à l'ensemble des paramètres $\\th$ de $F$\n",
    "2. Mettre à jour $\\th$: \n",
    "$$\\th = \\th - \\eta \\Large{{\\dld \\th}}$$\n",
    "2. Répéter 2 à 5 jusqu'à convergence !\n",
    "\n",
    "\n"
   ]
  },
  {
   "cell_type": "markdown",
   "metadata": {
    "colab_type": "text",
    "id": "cd7nvz2fMfB9"
   },
   "source": [
    "<center><img src=\"data:image/png;base64,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\"\n",
    "height=\"250\"></center>\n"
   ]
  },
  {
   "cell_type": "code",
   "execution_count": 1,
   "metadata": {},
   "outputs": [],
   "source": [
    "import numpy as np\n",
    "from matplotlib import pyplot as plt\n",
    "\n",
    "\n",
    "class Callable:\n",
    "    \n",
    "    def forward(self, x):\n",
    "        pass\n",
    "    \n",
    "    def __call__(self, x):\n",
    "        return self.forward(x)\n",
    "\n",
    "\n",
    "class Lineaire1(Callable):\n",
    "    def __init__(self, ne, ns):\n",
    "        self.W = np.random.randn(ne, ns)\n",
    "        self.b = np.zeros((ns))\n",
    "        self.What = np.zeros_like(self.W)\n",
    "        self.bhat = np.zeros_like(self.b)\n",
    "        \n",
    "    def forward(self, x):\n",
    "        y = x @ self.W + self.b\n",
    "        return y\n",
    "    \n",
    "    # calcul de gradients\n",
    "    def backward(self, x, yhat):\n",
    "        pass\n",
    "    \n",
    "    def update(self):\n",
    "        pass\n",
    "        "
   ]
  },
  {
   "cell_type": "code",
   "execution_count": 2,
   "metadata": {
    "colab": {},
    "colab_type": "code",
    "id": "Dx6-BA6mmS2V"
   },
   "outputs": [
    {
     "data": {
      "text/plain": [
       "array([[-0.59768975,  1.87043563, -1.29575993]])"
      ]
     },
     "execution_count": 2,
     "metadata": {},
     "output_type": "execute_result"
    }
   ],
   "source": [
    "ne, ns = 2,  3\n",
    "f = Lineaire1(ne, ns)\n",
    "x = np.array([-1, 1])[None]\n",
    "f(x)"
   ]
  },
  {
   "cell_type": "code",
   "execution_count": 3,
   "metadata": {},
   "outputs": [
    {
     "data": {
      "text/plain": [
       "array([[-1.4550835 ,  4.65344098, -1.70109467],\n",
       "       [-0.08485468,  0.24028311, -0.55175512],\n",
       "       [ 0.26783169, -0.90893769, -0.44965559],\n",
       "       [-0.17346634,  0.71415834,  2.11773736],\n",
       "       [ 0.38004009, -1.36159918, -1.68416583]])"
      ]
     },
     "execution_count": 3,
     "metadata": {},
     "output_type": "execute_result"
    }
   ],
   "source": [
    "x = np.random.randn(5, ne)\n",
    "f(x)"
   ]
  },
  {
   "cell_type": "markdown",
   "metadata": {},
   "source": [
    "##  Calcul des gradients"
   ]
  },
  {
   "cell_type": "markdown",
   "metadata": {
    "colab_type": "text",
    "id": "zoOMr0HPRZiF"
   },
   "source": [
    "<center><img src=\"data:image/png;base64,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\"\n",
    "height=\"100\"></center>\n"
   ]
  },
  {
   "cell_type": "markdown",
   "metadata": {
    "colab_type": "text",
    "id": "AHPYJU1_-0ta"
   },
   "source": [
    "<center><img src=\"data:image/png;base64,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\"\n",
    "height=\"100\"></center>\n"
   ]
  },
  {
   "cell_type": "markdown",
   "metadata": {
    "colab_type": "text",
    "id": "92v2uVyYiNqM"
   },
   "source": [
    "<center><img src=\"data:image/png;base64,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\"\n",
    "height=\"100\"></center>"
   ]
  },
  {
   "cell_type": "markdown",
   "metadata": {},
   "source": [
    "$$\\yhat := {\\dld \\y}$$\n",
    "\n",
    "$$ \\bhat := {\\dld \\b}$$\n",
    "\n",
    "$$ \\What := {\\dld \\W}$$\n",
    "\n",
    "$$ \\xhat := {\\dld \\x}$$"
   ]
  },
  {
   "cell_type": "markdown",
   "metadata": {},
   "source": [
    "On suppose connu $\\yhat$, on calcule $\\bhat, \\xhat $ et $\\What$.\n",
    "\n",
    "Dérivations, blackboard ...."
   ]
  },
  {
   "cell_type": "markdown",
   "metadata": {},
   "source": [
    "$$\\xhat := \\red{\\dldx} = \\blue \\dydx^\\mathrm{T}\\ngapp   \\cdot {\\green \\dldy}$$\n",
    "\n",
    "\n",
    "$$\\red{\\dld {x_i} } = \\sum_{j\\le n} \\green{\\dld{y_j}} \\blue{\\partialfrac{y_j}{x_i}}$$\n",
    "Substituez $\\x$ par $\\y,\\b$ ou $W$"
   ]
  },
  {
   "cell_type": "code",
   "execution_count": 4,
   "metadata": {},
   "outputs": [],
   "source": [
    "class Lineaire2(Lineaire1):\n",
    "    \n",
    "    \n",
    "    def forward(self, x):\n",
    "        self.x = x # nécessaire au le calcul du gradient\n",
    "        return super().forward(x)\n",
    "    \n",
    "    def backward(self, yhat):\n",
    "        self.bhat += yhat \n",
    "        self.What += np.multiply.outer(self.x, yhat).mean(0) # moyenne sur la taille du batch\n",
    "#         print(f'W, yhat shape: {self.W.shape, yhat.shape}')\n",
    "        return self.W@yhat # retourne xhat\n",
    "    \n",
    "    def update(self, pas):\n",
    "        self.W -= pas * self.What\n",
    "        self.b -= pas * self.bhat\n",
    "        self.zero_grad()\n",
    "        \n",
    "    def zero_grad(self):\n",
    "        self.What.fill(0)\n",
    "        self.bhat.fill(0)\n",
    "                "
   ]
  },
  {
   "cell_type": "code",
   "execution_count": 5,
   "metadata": {},
   "outputs": [],
   "source": [
    "class L2loss:\n",
    "    def forward(self, ypred, ytrue):\n",
    "        self.ypred, self.ytrue = ypred, ytrue\n",
    "        return 0.5*((ypred - ytrue)**2).mean((0,1))\n",
    "    \n",
    "    def backward(self):\n",
    "        return (self.ypred - self.ytrue).mean((0))\n",
    "    \n",
    "    def __call__(self, ypred, ytrue):\n",
    "        return self.forward(ypred, ytrue)"
   ]
  },
  {
   "cell_type": "code",
   "execution_count": 6,
   "metadata": {},
   "outputs": [
    {
     "data": {
      "text/plain": [
       "(array([[ 0.20690052, -0.09404233,  0.18575898],\n",
       "        [-5.26589657,  2.71278853, -4.60308679],\n",
       "        [-1.08628622,  0.76319961, -0.87002572],\n",
       "        [ 2.5850526 , -1.66200854,  2.13064854]]),\n",
       " array([[ 1.34235637, -0.12214979,  1.01251548],\n",
       "        [-0.91386915, -1.02953021,  1.20979645],\n",
       "        [ 0.5018723 ,  0.13884618,  0.64076111],\n",
       "        [ 0.52733267, -1.15436024, -2.21333348]]))"
      ]
     },
     "execution_count": 6,
     "metadata": {},
     "output_type": "execute_result"
    }
   ],
   "source": [
    "bs = 4\n",
    "ne = 2\n",
    "ns = 3\n",
    "np.random.seed(12)\n",
    "f = Lineaire2(ne, ns)\n",
    "x = np.random.randn(bs, ne)\n",
    "y = np.random.randn(bs, ns)\n",
    "# x = np.array([-1, 1]) \n",
    "f(x), y"
   ]
  },
  {
   "cell_type": "code",
   "execution_count": 7,
   "metadata": {},
   "outputs": [
    {
     "name": "stdout",
     "output_type": "stream",
     "text": [
      "loss: 4.052704985092134\n",
      "loss: 2.482720663585616\n",
      "loss: 2.1893687715030663\n",
      "loss: 2.1185260213905743\n",
      "loss: 2.099494710602435\n",
      "loss: 2.094203580005113\n",
      "loss: 2.092717629378129\n",
      "loss: 2.0922991167044667\n",
      "loss: 2.0921811482203565\n",
      "loss: 2.0921478881585074\n"
     ]
    }
   ],
   "source": [
    "for i in range (1000):\n",
    "    loss = L2loss()\n",
    "    v = loss(f(x), y)\n",
    "    if i %100 == 0: print(f'loss: {v}')\n",
    "    yhat = loss.backward()\n",
    "    f.backward(yhat)\n",
    "    f.update(0.01)"
   ]
  },
  {
   "cell_type": "code",
   "execution_count": 8,
   "metadata": {},
   "outputs": [
    {
     "data": {
      "text/plain": [
       "(array([[ 1.143507  , -0.8195842 ,  0.89624047],\n",
       "        [-2.76933005,  0.77882419, -2.70926654],\n",
       "        [ 0.19280127, -0.22764504,  0.10025157],\n",
       "        [ 2.89069803, -1.89877666,  2.36250197]]),\n",
       " array([[ 1.34235637, -0.12214979,  1.01251548],\n",
       "        [-0.91386915, -1.02953021,  1.20979645],\n",
       "        [ 0.5018723 ,  0.13884618,  0.64076111],\n",
       "        [ 0.52733267, -1.15436024, -2.21333348]]))"
      ]
     },
     "execution_count": 8,
     "metadata": {},
     "output_type": "execute_result"
    }
   ],
   "source": [
    "f(x), y"
   ]
  },
  {
   "cell_type": "code",
   "execution_count": 9,
   "metadata": {},
   "outputs": [
    {
     "data": {
      "text/plain": [
       "2.092138510201946"
      ]
     },
     "execution_count": 9,
     "metadata": {},
     "output_type": "execute_result"
    }
   ],
   "source": [
    "loss(f(x), y)"
   ]
  },
  {
   "cell_type": "code",
   "execution_count": 10,
   "metadata": {},
   "outputs": [
    {
     "data": {
      "text/plain": [
       "((2, 3), (2, 3), (3,), (3,))"
      ]
     },
     "execution_count": 10,
     "metadata": {},
     "output_type": "execute_result"
    }
   ],
   "source": [
    "f.What.shape, f.W.shape,  f.b.shape, f.bhat.shape"
   ]
  },
  {
   "cell_type": "code",
   "execution_count": 11,
   "metadata": {},
   "outputs": [
    {
     "data": {
      "text/plain": [
       "(array([[0., 0., 0.],\n",
       "        [0., 0., 0.]]),\n",
       " array([[ 0.39726752, -0.62277072,  0.18500187],\n",
       "        [-1.19991847,  0.365185  , -1.15481651]]))"
      ]
     },
     "execution_count": 11,
     "metadata": {},
     "output_type": "execute_result"
    }
   ],
   "source": [
    "f.What, f.W"
   ]
  },
  {
   "cell_type": "code",
   "execution_count": 12,
   "metadata": {},
   "outputs": [
    {
     "data": {
      "text/plain": [
       "(array([[0., 0., 0.],\n",
       "        [0., 0., 0.]]),\n",
       " array([[ 0.39726752, -0.62277072,  0.18500187],\n",
       "        [-1.19991847,  0.365185  , -1.15481651]]))"
      ]
     },
     "execution_count": 12,
     "metadata": {},
     "output_type": "execute_result"
    }
   ],
   "source": [
    "f.update(0.01)\n",
    "f.What, f.W"
   ]
  },
  {
   "cell_type": "code",
   "execution_count": 13,
   "metadata": {},
   "outputs": [
    {
     "data": {
      "text/plain": [
       "((3,), (3,))"
      ]
     },
     "execution_count": 13,
     "metadata": {},
     "output_type": "execute_result"
    }
   ],
   "source": [
    "f.b.shape, f.bhat.shape"
   ]
  },
  {
   "cell_type": "markdown",
   "metadata": {},
   "source": [
    "## Implémentation d'un réseau composé de plusieurs couches"
   ]
  },
  {
   "cell_type": "code",
   "execution_count": 14,
   "metadata": {},
   "outputs": [],
   "source": [
    "class Réseau:\n",
    "    def __init__(self, couches):\n",
    "        self.couches = couches\n",
    "    \n",
    "    def forward(self, x):\n",
    "        y=x\n",
    "        for c in self.couches:\n",
    "            y = c(y)\n",
    "        self.y = y\n",
    "        return y\n",
    "    \n",
    "    def backward(self, yhat):\n",
    "        xhat = yhat\n",
    "        for c in reversed(self.couches):\n",
    "            xhat = c.backward(xhat)\n",
    "            \n",
    "    def update(self, pas):\n",
    "        for c in self.couches:\n",
    "            c.update(pas)"
   ]
  },
  {
   "cell_type": "markdown",
   "metadata": {},
   "source": [
    "## Test sur un réseau d'une seul couche"
   ]
  },
  {
   "cell_type": "code",
   "execution_count": 15,
   "metadata": {},
   "outputs": [],
   "source": [
    "net = Réseau([Lineaire2(2, 1)])"
   ]
  },
  {
   "cell_type": "code",
   "execution_count": 16,
   "metadata": {},
   "outputs": [
    {
     "data": {
      "text/plain": [
       "array([[0.10633774]])"
      ]
     },
     "execution_count": 16,
     "metadata": {},
     "output_type": "execute_result"
    }
   ],
   "source": [
    "# x = np.random.randn(2)\n",
    "x = np.array([1, -1])[None]\n",
    "y = np.array([10])[None]\n",
    "ypred= net.forward(x)\n",
    "ypred"
   ]
  },
  {
   "cell_type": "code",
   "execution_count": 17,
   "metadata": {},
   "outputs": [
    {
     "name": "stdout",
     "output_type": "stream",
     "text": [
      "loss: 48.942276450874786\n",
      "loss: 7.830764232139961\n",
      "loss: 1.2529222771423942\n",
      "loss: 0.2004675643427831\n",
      "loss: 0.032074810294844935\n",
      "loss: 0.005131969647175298\n",
      "loss: 0.0008211151435480188\n",
      "loss: 0.00013137842296769453\n",
      "loss: 2.102054767482191e-05\n",
      "loss: 3.363287627972427e-06\n",
      "ypred, ytrue = (array([[9.99740644]]), array([[10]]))\n"
     ]
    }
   ],
   "source": [
    "epochs = 10\n",
    "lr = 0.2\n",
    "for i in range(epochs):\n",
    "    \n",
    "    ypred= net.forward(x)\n",
    "#     print(f'forward: {ypred}')\n",
    "    loss = L2loss()\n",
    "    lossvalue = loss(ypred, y)\n",
    "    print(f'loss: {lossvalue}')\n",
    "    yhat = loss.backward()\n",
    "#     print(f'dloss/y: {yhat}')\n",
    "    net.backward(yhat)\n",
    "    net.update(lr)\n",
    "    \n",
    "print(f'ypred, ytrue = {ypred, y}')\n",
    "    "
   ]
  },
  {
   "cell_type": "code",
   "execution_count": 18,
   "metadata": {},
   "outputs": [],
   "source": [
    "def generate_data(n, exp=1):\n",
    "    x = np.arange(0,n).astype(float)\n",
    "    y = np.random.randn(n)*3 - 0.2*(x-9.5)**exp + 1\n",
    "    return x,y\n",
    "    "
   ]
  },
  {
   "cell_type": "code",
   "execution_count": 19,
   "metadata": {},
   "outputs": [
    {
     "data": {
      "image/png": "[encoded data removed]",
      "text/plain": [
       "<Figure size 432x288 with 1 Axes>"
      ]
     },
     "metadata": {
      "needs_background": "light"
     },
     "output_type": "display_data"
    }
   ],
   "source": [
    "time, speed = generate_data(70)\n",
    "plt.scatter(time,speed);"
   ]
  },
  {
   "cell_type": "code",
   "execution_count": 20,
   "metadata": {},
   "outputs": [
    {
     "data": {
      "text/plain": [
       "((70, 1), (70, 1))"
      ]
     },
     "execution_count": 20,
     "metadata": {},
     "output_type": "execute_result"
    }
   ],
   "source": [
    "x = time[:, None]\n",
    "y = speed[:, None]\n",
    "net = Réseau([Lineaire2(1,1)])\n",
    "x.shape, y.shape"
   ]
  },
  {
   "cell_type": "code",
   "execution_count": 21,
   "metadata": {},
   "outputs": [
    {
     "data": {
      "image/png": "[encoded data removed]",
      "text/plain": [
       "<Figure size 432x288 with 1 Axes>"
      ]
     },
     "metadata": {
      "needs_background": "light"
     },
     "output_type": "display_data"
    },
    {
     "name": "stdout",
     "output_type": "stream",
     "text": [
      "loss: 887.3331449103944\n",
      "loss: 118.7378561815733\n",
      "loss: 45.74887388224378\n",
      "loss: 38.704713293241305\n",
      "loss: 37.98928973909379\n",
      "loss: 37.90476339045318\n",
      "loss: 37.8902274232718\n",
      "loss: 37.88551773193081\n",
      "loss: 37.88272603483664\n",
      "loss: 37.880420128228224\n"
     ]
    },
    {
     "data": {
      "image/png": "[encoded data removed]",
      "text/plain": [
       "<Figure size 432x288 with 1 Axes>"
      ]
     },
     "metadata": {
      "needs_background": "light"
     },
     "output_type": "display_data"
    }
   ],
   "source": [
    "epochs = 10\n",
    "lr = 0.01\n",
    "def train_loop(model, x_, y_, lr, epochs, batchsize = 10, lossfreq=10):\n",
    "    plt.plot(x_, y_, '.', model.forward(x_), 'g.' )\n",
    "    plt.show()\n",
    "    for i in range(epochs):\n",
    "        lossvalue = 0\n",
    "        for j in range (0, x_.shape[0], batchsize):\n",
    "            x = x_[j:j+batchsize]\n",
    "            y= y_[j:j+batchsize]\n",
    "            ypred= model.forward(x)\n",
    "        #     print(f'forward: {ypred}')\n",
    "            loss = L2loss()\n",
    "            lossvalue += loss(ypred, y)\n",
    "            yhat = loss.backward()\n",
    "        #     print(f'dloss/y: {yhat}')\n",
    "            net.backward(yhat)\n",
    "        net.update(lr)\n",
    "        if i% lossfreq == 0: print(f'loss: {lossvalue}')\n",
    "    plt.plot(x_, y_, '.', model.forward(x_), 'g.' )\n",
    "    plt.show()\n",
    "        \n",
    "train_loop(net, x, y, 0.00001, 100)"
   ]
  },
  {
   "cell_type": "code",
   "execution_count": 22,
   "metadata": {},
   "outputs": [],
   "source": [
    "net = Réseau([Lineaire2(1, 2), Lineaire2(2,1)])"
   ]
  },
  {
   "cell_type": "code",
   "execution_count": 23,
   "metadata": {},
   "outputs": [
    {
     "data": {
      "image/png": "[encoded data removed]",
      "text/plain": [
       "<Figure size 432x288 with 1 Axes>"
      ]
     },
     "metadata": {
      "needs_background": "light"
     },
     "output_type": "display_data"
    },
    {
     "name": "stdout",
     "output_type": "stream",
     "text": [
      "loss: 107.27275642857374\n",
      "loss: nan\n",
      "loss: nan\n",
      "loss: nan\n",
      "loss: nan\n",
      "loss: nan\n",
      "loss: nan\n",
      "loss: nan\n",
      "loss: nan\n",
      "loss: nan\n"
     ]
    },
    {
     "name": "stderr",
     "output_type": "stream",
     "text": [
      "<ipython-input-1-c5a7962a0726>:22: RuntimeWarning: overflow encountered in matmul\n",
      "  y = x @ self.W + self.b\n",
      "<ipython-input-4-584d22d04368>:10: RuntimeWarning: invalid value encountered in multiply\n",
      "  self.What += np.multiply.outer(self.x, yhat).mean(0) # moyenne sur la taille du batch\n"
     ]
    },
    {
     "data": {
      "image/png": "[encoded data removed]",
      "text/plain": [
       "<Figure size 432x288 with 1 Axes>"
      ]
     },
     "metadata": {
      "needs_background": "light"
     },
     "output_type": "display_data"
    }
   ],
   "source": [
    "train_loop(net, x, y, 0.001, 100)"
   ]
  },
  {
   "cell_type": "code",
   "execution_count": 24,
   "metadata": {},
   "outputs": [
    {
     "data": {
      "image/png": "[encoded data removed]",
      "text/plain": [
       "<Figure size 432x288 with 1 Axes>"
      ]
     },
     "metadata": {
      "needs_background": "light"
     },
     "output_type": "display_data"
    },
    {
     "name": "stdout",
     "output_type": "stream",
     "text": [
      "loss: 1266.6115597377816\n",
      "loss: 37.96505460382086\n",
      "loss: 37.923107212810294\n",
      "loss: 37.88145570680818\n",
      "loss: 37.84009631981071\n"
     ]
    },
    {
     "data": {
      "image/png": "[encoded data removed]",
      "text/plain": [
       "<Figure size 432x288 with 1 Axes>"
      ]
     },
     "metadata": {
      "needs_background": "light"
     },
     "output_type": "display_data"
    }
   ],
   "source": [
    "net = Réseau([Lineaire2(1, 2), Lineaire2(2,1)])\n",
    "train_loop(net, x, y, 0.0001, 50)"
   ]
  },
  {
   "cell_type": "markdown",
   "metadata": {},
   "source": [
    "## Introduction de non-linéarité"
   ]
  },
  {
   "cell_type": "markdown",
   "metadata": {
    "colab_type": "text",
    "id": "bevt9LtvD0oH"
   },
   "source": [
    "<center><img src=\"data:image/png;base64,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\"\n",
    "height=\"150\"></center>\n"
   ]
  },
  {
   "cell_type": "code",
   "execution_count": 25,
   "metadata": {},
   "outputs": [],
   "source": [
    "class Relu(Callable):\n",
    "    \n",
    "    def forward(self, x):\n",
    "        self.x = x\n",
    "        return (x>0)*x\n",
    "    \n",
    "    def backward(self, yhat):\n",
    "#         print(f\"relu: x, yhat shape: {self.x.shape, yhat.shape}\")\n",
    "        return yhat*(self.x>0).astype(float).mean(0)\n",
    "    \n",
    "    def update(self, pas):\n",
    "        pass\n",
    "\n"
   ]
  },
  {
   "cell_type": "code",
   "execution_count": 26,
   "metadata": {},
   "outputs": [
    {
     "data": {
      "image/png": "[encoded data removed]",
      "text/plain": [
       "<Figure size 432x288 with 1 Axes>"
      ]
     },
     "metadata": {
      "needs_background": "light"
     },
     "output_type": "display_data"
    }
   ],
   "source": [
    "time, speed = generate_data(70, exp=1)\n",
    "plt.scatter(time,speed);"
   ]
  },
  {
   "cell_type": "code",
   "execution_count": 27,
   "metadata": {},
   "outputs": [
    {
     "data": {
      "image/png": "[encoded data removed]",
      "text/plain": [
       "<Figure size 432x288 with 1 Axes>"
      ]
     },
     "metadata": {
      "needs_background": "light"
     },
     "output_type": "display_data"
    },
    {
     "name": "stdout",
     "output_type": "stream",
     "text": [
      "loss: 173.40621279649073\n",
      "loss: 126.35890725429277\n",
      "loss: 114.76287065054161\n",
      "loss: 111.90472471921026\n",
      "loss: 111.20026004356897\n",
      "loss: 111.0266263344619\n",
      "loss: 110.98382977420734\n",
      "loss: 110.9732814447439\n",
      "loss: 110.97068153358731\n",
      "loss: 110.97004071761302\n"
     ]
    },
    {
     "data": {
      "image/png": "[encoded data removed]",
      "text/plain": [
       "<Figure size 432x288 with 1 Axes>"
      ]
     },
     "metadata": {
      "needs_background": "light"
     },
     "output_type": "display_data"
    }
   ],
   "source": [
    "x = time[:, None]\n",
    "y = speed[:, None]\n",
    "net = Réseau([Lineaire2(1, 2), Relu(), Lineaire2(2,2), Relu(), Lineaire2(2,1)])\n",
    "train_loop(net, x, y, 0.0001, 10000, lossfreq=1000)"
   ]
  },
  {
   "cell_type": "code",
   "execution_count": 28,
   "metadata": {
    "colab": {},
    "colab_type": "code",
    "id": "tZkOLMSFhCvS"
   },
   "outputs": [],
   "source": [
    "import matplotlib.pyplot as plt\n",
    "\n",
    "def to_array(x):\n",
    "    return np.array(x, copy=False, ndmin=1)\n",
    "\n",
    "def train(model, data_generator, total_batches, batch_size=64, learning_rate=0.01, loss_function=L2loss):\n",
    "    losses = []\n",
    "    \n",
    "    period = np.floor(total_batches / 10) # how often to print loss\n",
    "    avg_loss = 0 \n",
    "    \n",
    "    print(\"batch\\tloss\")\n",
    "    \n",
    "    for batch_number in range(1, total_batches + 1):\n",
    "      \n",
    "        # collect gradients from `batch_size` examples\n",
    "        loss = 0 \n",
    "        for i in range(batch_size):\n",
    "            x, y = data_generator()\n",
    "#             if i == 0: print(f'x, y shape: {x.shape, y.shape}')\n",
    "            loss += loss_function(model, to_array(x), to_array(y))\n",
    "        loss /= batch_size\n",
    "        losses.append(loss)\n",
    "    \n",
    "        # periodically print the loss\n",
    "        avg_loss += loss    \n",
    "        if batch_number % period == 0: \n",
    "            print(f\"{batch_number}\\t{avg_loss/period:0.3g}\")\n",
    "            avg_loss = 0\n",
    "        \n",
    "        # do a step of SGD, using a gradually decreasing learning rate\n",
    "        schedule = np.sqrt(1.0 - (batch_number - 1) / total_batches)\n",
    "        step_size = learning_rate / batch_size * schedule\n",
    "        model.update(step_size)\n",
    "\n",
    "    plt.semilogy(losses)\n",
    "    plt.show()"
   ]
  },
  {
   "cell_type": "markdown",
   "metadata": {
    "colab_type": "text",
    "id": "Wq48vFW2jbm-"
   },
   "source": [
    "## Entraînement sur MNIST"
   ]
  },
  {
   "cell_type": "markdown",
   "metadata": {
    "colab_type": "text",
    "id": "w4mLbZx5p_jm"
   },
   "source": [
    "We are now going to train on *half* of the famous MNIST (pronounced \"em-nist\") dataset of handwritten digits (taking only the digits 0 through 4). "
   ]
  },
  {
   "cell_type": "markdown",
   "metadata": {
    "colab_type": "text",
    "id": "7mbc4spFoX_K"
   },
   "source": [
    "### Obtenir les données"
   ]
  },
  {
   "cell_type": "markdown",
   "metadata": {
    "colab_type": "text",
    "id": "ojL1Grdroahh"
   },
   "source": [
    "To access the data, we will use tensorflow - but we will not use any other functionality from tensorflow."
   ]
  },
  {
   "cell_type": "code",
   "execution_count": 29,
   "metadata": {
    "colab": {},
    "colab_type": "code",
    "id": "BwPs_xjqpQwV"
   },
   "outputs": [
    {
     "name": "stderr",
     "output_type": "stream",
     "text": [
      "/home/ismael/Utils/miniconda2/envs/fastai2/lib/python3.8/site-packages/torchvision/datasets/mnist.py:58: UserWarning: train_data has been renamed data\n",
      "  warnings.warn(\"train_data has been renamed data\")\n",
      "/home/ismael/Utils/miniconda2/envs/fastai2/lib/python3.8/site-packages/torchvision/datasets/mnist.py:48: UserWarning: train_labels has been renamed targets\n",
      "  warnings.warn(\"train_labels has been renamed targets\")\n",
      "/home/ismael/Utils/miniconda2/envs/fastai2/lib/python3.8/site-packages/torchvision/datasets/mnist.py:63: UserWarning: test_data has been renamed data\n",
      "  warnings.warn(\"test_data has been renamed data\")\n",
      "/home/ismael/Utils/miniconda2/envs/fastai2/lib/python3.8/site-packages/torchvision/datasets/mnist.py:53: UserWarning: test_labels has been renamed targets\n",
      "  warnings.warn(\"test_labels has been renamed targets\")\n"
     ]
    }
   ],
   "source": [
    "from torchvision.datasets import MNIST\n",
    "\n",
    "mnist = MNIST('./', download=True)\n",
    "\n",
    "(x_train, y_train) = (mnist.train_data.numpy(), mnist.train_labels.numpy())\n",
    "(x_test, y_test) =   (mnist.test_data.numpy(), mnist.test_labels.numpy())\n",
    "x_train, x_test = x_train / 255.0, x_test / 255.0"
   ]
  },
  {
   "cell_type": "markdown",
   "metadata": {
    "colab_type": "text",
    "id": "Q9g9us2ysaXX"
   },
   "source": [
    "The variables `x_train` and `x_test` each store a numpy array that contains the 60,000 images and the labels respectively. "
   ]
  },
  {
   "cell_type": "code",
   "execution_count": 30,
   "metadata": {
    "colab": {},
    "colab_type": "code",
    "id": "fH60SAkgslCD"
   },
   "outputs": [
    {
     "name": "stdout",
     "output_type": "stream",
     "text": [
      "x shape is (60000, 28, 28)\n",
      "y shape is (60000,)\n"
     ]
    }
   ],
   "source": [
    "print(\"x shape is\", x_train.shape)\n",
    "print(\"y shape is\", y_train.shape)"
   ]
  },
  {
   "cell_type": "markdown",
   "metadata": {
    "colab_type": "text",
    "id": "oiHgQCgQocZI"
   },
   "source": [
    "The dimensions 28, 28 are the width and height of the images in the training set."
   ]
  },
  {
   "cell_type": "markdown",
   "metadata": {
    "colab_type": "text",
    "id": "Z9b1rI-ioK4h"
   },
   "source": [
    "### Visualizing the training data"
   ]
  },
  {
   "cell_type": "markdown",
   "metadata": {
    "colab_type": "text",
    "id": "HXGTufqyh3Pw"
   },
   "source": [
    "Let's visualize some of the training data. Here's a function that plots an array as an grayscale image:\n"
   ]
  },
  {
   "cell_type": "code",
   "execution_count": 31,
   "metadata": {
    "colab": {},
    "colab_type": "code",
    "id": "OSwM-ZeTh67N"
   },
   "outputs": [],
   "source": [
    "import matplotlib.pyplot as plt\n",
    "\n",
    "def plot_image(array):\n",
    "    plt.imshow(array, cmap='gray_r');"
   ]
  },
  {
   "cell_type": "markdown",
   "metadata": {
    "colab_type": "text",
    "id": "vWrrOx5wifBs"
   },
   "source": [
    "The following code will take the first 10 image arrays from the training set, stack them horizontally into one 2-dimensional array, and plot it using our new function. We are also printing the first 10 labels so we can compare them."
   ]
  },
  {
   "cell_type": "code",
   "execution_count": 32,
   "metadata": {
    "colab": {},
    "colab_type": "code",
    "id": "DvA58UJliBIX"
   },
   "outputs": [
    {
     "name": "stdout",
     "output_type": "stream",
     "text": [
      "[0 4 1 9 2 1 3 1 4]\n"
     ]
    },
    {
     "data": {
      "image/png": "[encoded data removed]",
      "text/plain": [
       "<Figure size 432x288 with 1 Axes>"
      ]
     },
     "metadata": {
      "needs_background": "light"
     },
     "output_type": "display_data"
    }
   ],
   "source": [
    "plot_image(np.hstack(x_train[1:10]))\n",
    "print(y_train[1:10])"
   ]
  },
  {
   "cell_type": "markdown",
   "metadata": {
    "colab_type": "text",
    "id": "e6zfyFjgjh7h"
   },
   "source": [
    "As you can see, the *i*'th label corresponds to the *i*'th handwritten digit!"
   ]
  },
  {
   "cell_type": "markdown",
   "metadata": {
    "colab_type": "text",
    "id": "QRpoxPLzoSup"
   },
   "source": [
    "### Sampling from the training data"
   ]
  },
  {
   "cell_type": "markdown",
   "metadata": {
    "colab_type": "text",
    "id": "VxyMqwaNsxbW"
   },
   "source": [
    "We now write a function that will sample at random an image and its matching label, returning them as a pair. The `while` loop will make sure we get a digit that is either zero, one, two, three, or four - it'll keep trying again until it gets one:"
   ]
  },
  {
   "cell_type": "code",
   "execution_count": 37,
   "metadata": {
    "colab": {},
    "colab_type": "code",
    "id": "KhUF1mZiswwj"
   },
   "outputs": [],
   "source": [
    "def sample_random_mnist_example(bs):\n",
    "    # keep sampling until we get a digit in range 0..4\n",
    "#     while True:\n",
    "    i = np.random.choice(60000,size=bs, replace=False)\n",
    "    x = x_train[i]\n",
    "    y = y_train[i]\n",
    "#     if y[0] < 5: break\n",
    "    return x, y"
   ]
  },
  {
   "cell_type": "markdown",
   "metadata": {
    "colab_type": "text",
    "id": "E1ybXvm5tBXo"
   },
   "source": [
    "Let's try this function out. Notice that the single 1 x 28 x 28 array representing the image into a 784-dimensional vector. Similarly, the label is stored in a 1-dimensional vector."
   ]
  },
  {
   "cell_type": "code",
   "execution_count": 38,
   "metadata": {
    "colab": {},
    "colab_type": "code",
    "id": "RBsvKD-htASM"
   },
   "outputs": [
    {
     "name": "stdout",
     "output_type": "stream",
     "text": [
      "x shape is (64, 28, 28)\n",
      "y shape is (64,)\n"
     ]
    }
   ],
   "source": [
    "x, y = sample_random_mnist_example(64)\n",
    "print(\"x shape is\", x.shape)\n",
    "print(\"y shape is\", y.shape)"
   ]
  },
  {
   "cell_type": "markdown",
   "metadata": {
    "colab_type": "text",
    "id": "b1mTO75sxbsG"
   },
   "source": [
    "### Optional reading: can we expect problems from using L2 loss for classification?\n",
    " \n",
    "The training data labels are the integers 0, 1, 2, .., 9, corresponding to a training image of the handwritten digit zero, one, two, etc. \n",
    "\n",
    "To re-use our previous code, the loss function we will use for this problem is the L2 loss. However, this choice of loss function has several problems. In fact, it's really bad!\n",
    "\n",
    "To see why, let's look at two kinds of misclassification the net might do:\n",
    "\n",
    "1. the net predicts **y = 0** but the actual label is **y' = 4**. This gives a **high** L2 loss value of $\\L = (y - y')^2 = (0-4)^2 = 16$\n",
    "2. the net predicts **y = 0** but the actual label is **y' = 1**. This gives a **low** L2 loss value of $\\L = (y - y')^2 = (0-1)^2 = 1$\n",
    "\n",
    "But this difference not ideal, because we as human beings care equally about both these misclassifications! Using the L2 loss function will train the net to minimize one kind of error much more than the other kind of error.\n",
    "\n",
    "Similarly, our net will usually predict non-integer values like `3.8` or `5.2`, which we will choose to interpret as predictions for the nearest integer, like four or five. Again, this is unnatural, because it only allows the network to express uncertainty between neighboring numbers three versus four -- it cannot express uncertainty between zero and four!\n",
    "\n",
    "A much better choice of loss function is called the *cross-entropy loss*, which has none of these problems. We will leave this as an exercise in a later section.\n"
   ]
  },
  {
   "cell_type": "markdown",
   "metadata": {
    "colab_type": "text",
    "id": "yTk-bP5o04Lp"
   },
   "source": [
    "### Training the net "
   ]
  },
  {
   "cell_type": "code",
   "execution_count": 42,
   "metadata": {
    "colab": {},
    "colab_type": "code",
    "id": "iZ99iBHcp0yi"
   },
   "outputs": [
    {
     "name": "stdout",
     "output_type": "stream",
     "text": [
      "batch\tloss\n"
     ]
    },
    {
     "ename": "TypeError",
     "evalue": "'tuple' object is not callable",
     "output_type": "error",
     "traceback": [
      "\u001b[0;31m---------------------------------------------------------------------------\u001b[0m",
      "\u001b[0;31mTypeError\u001b[0m                                 Traceback (most recent call last)",
      "\u001b[0;32m<ipython-input-42-ba738cc06616>\u001b[0m in \u001b[0;36m<module>\u001b[0;34m\u001b[0m\n\u001b[1;32m      1\u001b[0m \u001b[0mmnist_mlp\u001b[0m \u001b[0;34m=\u001b[0m \u001b[0mRéseau\u001b[0m\u001b[0;34m(\u001b[0m\u001b[0;34m[\u001b[0m\u001b[0mLineaire2\u001b[0m\u001b[0;34m(\u001b[0m\u001b[0;36m28\u001b[0m\u001b[0;34m*\u001b[0m\u001b[0;36m28\u001b[0m\u001b[0;34m,\u001b[0m \u001b[0;36m100\u001b[0m\u001b[0;34m)\u001b[0m\u001b[0;34m,\u001b[0m \u001b[0mRelu\u001b[0m\u001b[0;34m(\u001b[0m\u001b[0;34m)\u001b[0m\u001b[0;34m,\u001b[0m \u001b[0mLineaire2\u001b[0m\u001b[0;34m(\u001b[0m\u001b[0;36m100\u001b[0m\u001b[0;34m,\u001b[0m \u001b[0;36m1\u001b[0m\u001b[0;34m)\u001b[0m\u001b[0;34m]\u001b[0m\u001b[0;34m)\u001b[0m\u001b[0;34m\u001b[0m\u001b[0;34m\u001b[0m\u001b[0m\n\u001b[0;32m----> 2\u001b[0;31m \u001b[0mtrain\u001b[0m\u001b[0;34m(\u001b[0m\u001b[0mmnist_mlp\u001b[0m\u001b[0;34m,\u001b[0m \u001b[0msample_random_mnist_example\u001b[0m\u001b[0;34m(\u001b[0m\u001b[0;36m64\u001b[0m\u001b[0;34m)\u001b[0m\u001b[0;34m,\u001b[0m \u001b[0;36m1000\u001b[0m\u001b[0;34m,\u001b[0m \u001b[0mlearning_rate\u001b[0m\u001b[0;34m=\u001b[0m\u001b[0;36m0.1\u001b[0m\u001b[0;34m)\u001b[0m\u001b[0;34m\u001b[0m\u001b[0;34m\u001b[0m\u001b[0m\n\u001b[0m",
      "\u001b[0;32m<ipython-input-28-248dd9bfb82b>\u001b[0m in \u001b[0;36mtrain\u001b[0;34m(model, data_generator, total_batches, batch_size, learning_rate, loss_function)\u001b[0m\n\u001b[1;32m     17\u001b[0m         \u001b[0mloss\u001b[0m \u001b[0;34m=\u001b[0m \u001b[0;36m0\u001b[0m\u001b[0;34m\u001b[0m\u001b[0;34m\u001b[0m\u001b[0m\n\u001b[1;32m     18\u001b[0m         \u001b[0;32mfor\u001b[0m \u001b[0mi\u001b[0m \u001b[0;32min\u001b[0m \u001b[0mrange\u001b[0m\u001b[0;34m(\u001b[0m\u001b[0mbatch_size\u001b[0m\u001b[0;34m)\u001b[0m\u001b[0;34m:\u001b[0m\u001b[0;34m\u001b[0m\u001b[0;34m\u001b[0m\u001b[0m\n\u001b[0;32m---> 19\u001b[0;31m             \u001b[0mx\u001b[0m\u001b[0;34m,\u001b[0m \u001b[0my\u001b[0m \u001b[0;34m=\u001b[0m \u001b[0mdata_generator\u001b[0m\u001b[0;34m(\u001b[0m\u001b[0;34m)\u001b[0m\u001b[0;34m\u001b[0m\u001b[0;34m\u001b[0m\u001b[0m\n\u001b[0m\u001b[1;32m     20\u001b[0m \u001b[0;31m#             if i == 0: print(f'x, y shape: {x.shape, y.shape}')\u001b[0m\u001b[0;34m\u001b[0m\u001b[0;34m\u001b[0m\u001b[0;34m\u001b[0m\u001b[0m\n\u001b[1;32m     21\u001b[0m             \u001b[0mloss\u001b[0m \u001b[0;34m+=\u001b[0m \u001b[0mloss_function\u001b[0m\u001b[0;34m(\u001b[0m\u001b[0mmodel\u001b[0m\u001b[0;34m,\u001b[0m \u001b[0mto_array\u001b[0m\u001b[0;34m(\u001b[0m\u001b[0mx\u001b[0m\u001b[0;34m)\u001b[0m\u001b[0;34m,\u001b[0m \u001b[0mto_array\u001b[0m\u001b[0;34m(\u001b[0m\u001b[0my\u001b[0m\u001b[0;34m)\u001b[0m\u001b[0;34m)\u001b[0m\u001b[0;34m\u001b[0m\u001b[0;34m\u001b[0m\u001b[0m\n",
      "\u001b[0;31mTypeError\u001b[0m: 'tuple' object is not callable"
     ]
    }
   ],
   "source": [
    "mnist_mlp = Réseau([Lineaire2(28*28, 100), Relu(), Lineaire2(100, 1)])\n",
    "train(mnist_mlp, sample_random_mnist_example(64), 1000, learning_rate=0.1)  "
   ]
  },
  {
   "cell_type": "markdown",
   "metadata": {
    "colab_type": "text",
    "id": "i8CBMdQFq_KG"
   },
   "source": [
    "You should see a steadily decreasing loss curve above, with a final loss of around 0.05 to 0.2 (try again if the loss remains high by the end of training).\n",
    "\n",
    "Let's try the trained net out on an example from the test set."
   ]
  },
  {
   "cell_type": "code",
   "execution_count": null,
   "metadata": {
    "colab": {},
    "colab_type": "code",
    "id": "Hrqg0sQ0q-YO"
   },
   "outputs": [],
   "source": [
    "x = x_test[1]\n",
    "plot_image(x)"
   ]
  },
  {
   "cell_type": "markdown",
   "metadata": {
    "colab_type": "text",
    "id": "z2Agi9our-u7"
   },
   "source": [
    "You should see an image of a handwritten digit two above. So if we are lucky, the net should predict a label that is close to the value `2.0`:"
   ]
  },
  {
   "cell_type": "code",
   "execution_count": null,
   "metadata": {
    "colab": {},
    "colab_type": "code",
    "id": "S3dUAAFMrpS3"
   },
   "outputs": [],
   "source": [
    "y, _ = mnist_mlp(x.flatten())\n",
    "y"
   ]
  },
  {
   "cell_type": "markdown",
   "metadata": {
    "colab_type": "text",
    "id": "0hHzf5ZE4OJB"
   },
   "source": [
    "We can try to evaluate the performance by hand, but this isn't very scientific. So let's measure the accuracy on the entire test set, which contains 10,000 examples. We'll do this by looping over all examples in the test set, testing whether the output of the net, when rounded to the closest integer, gives the true label. We'll then return the fraction of examples that were correctly classified:"
   ]
  },
  {
   "cell_type": "code",
   "execution_count": null,
   "metadata": {
    "colab": {},
    "colab_type": "code",
    "id": "-rVlnHTI4jQh"
   },
   "outputs": [],
   "source": [
    "def measure_mnist_accuracy(model, to_prediction=np.round):\n",
    "  \n",
    "    number_correct = number_seen = 0\n",
    "    for i in range(10000):\n",
    "        x = x_test[i]\n",
    "        y_target = y_test[i]\n",
    "        \n",
    "        # skip labels not in 0..4\n",
    "        if y_target >= 5: \n",
    "            continue      \n",
    "            \n",
    "        # get net's prediction\n",
    "        y, _ = model.forward(x.flatten())\n",
    "        \n",
    "        # update count of number of correctly predicted examples\n",
    "        if to_prediction(y) == y_target: \n",
    "            number_correct += 1\n",
    "        number_seen += 1\n",
    "        \n",
    "    return number_correct / number_seen"
   ]
  },
  {
   "cell_type": "markdown",
   "metadata": {
    "colab_type": "text",
    "id": "bRZXvZVA6D96"
   },
   "source": [
    "We've written this as a function so that it is easy to use again later. The first argument is the model whose predictions should be measured. We also have an optional `to_prediction` argument to allow us to test nets that have output of different forms than a single real number (we'll need this later when we investigate cross-entropy).\n",
    "\n",
    "Let's try it out on the model we just trained:"
   ]
  },
  {
   "cell_type": "code",
   "execution_count": null,
   "metadata": {
    "colab": {},
    "colab_type": "code",
    "id": "3OgxrAtAkcsi"
   },
   "outputs": [],
   "source": [
    "measure_mnist_accuracy(mnist_mlp)"
   ]
  },
  {
   "cell_type": "markdown",
   "metadata": {
    "colab_type": "text",
    "id": "J0dVMWH0krnQ"
   },
   "source": [
    "You should see an accuracy in the range 70-90%. If you don't, try running the `train` step again and testing the accuracy one more time -- sometimes the random initialization of the net just doesn't allow it to learn as well."
   ]
  },
  {
   "cell_type": "markdown",
   "metadata": {
    "colab_type": "text",
    "id": "PEUh9MYSDf-z"
   },
   "source": [
    "### Exercise: switching to cross-entropy loss"
   ]
  },
  {
   "cell_type": "markdown",
   "metadata": {
    "colab_type": "text",
    "id": "IFWrwKscDkZZ"
   },
   "source": [
    "We should be able to improve our training process by using the so-called **cross-entropy loss** (CE loss) instead of L2 loss. This will avoid the problem of some misclassifications (e.g. 0 vs 4) contributing much more loss than others (0 vs 1).\n",
    "\n",
    "For simple situations like MNIST, the CE loss can be defined as follows, where $y$ is a vector of probabilities, one for each class, and $i$ is the index of the _true_ class:\n",
    "\n",
    "$$\\mathrm{CE}(y, i) = - log(y_i)$$"
   ]
  },
  {
   "cell_type": "markdown",
   "metadata": {
    "colab_type": "text",
    "id": "PZQTATj7FW4W"
   },
   "source": [
    "**Simple exercise**: convince yourself that minimizing this loss will encourage the likelihood of the _true_ class to be high. "
   ]
  },
  {
   "cell_type": "markdown",
   "metadata": {
    "colab_type": "text",
    "id": "M1D3iPN8ivWs"
   },
   "source": [
    "How do we get our network to produce a vector of probabilities? The most common way is to use the so-called **softmax function**, which is defined as:\n",
    "\n",
    "$$\\textrm{softmax}(\\x) = \\frac{e^{\\x}}{\\sum e^\\x}$$ \n",
    "\n",
    "In English terms: we exponentiate the input vector, and then normalize. This last step ensures the components of the vector will add up to 1, so that the vector can be interpreted as a vector of probabilities (because probabilities over all the classes must sum to 1)."
   ]
  },
  {
   "cell_type": "markdown",
   "metadata": {
    "colab_type": "text",
    "id": "a8qnyyMKjjhS"
   },
   "source": [
    "We won't spend much time explaining cross entropy loss and softmax, though there is a lot more to say. Instead, we will cut to the code. This code will combine both the cross entropy and softmax operations into a single expression that is more numerically stable:"
   ]
  },
  {
   "cell_type": "code",
   "execution_count": null,
   "metadata": {
    "colab": {},
    "colab_type": "code",
    "id": "ajs1T79iD2jS"
   },
   "outputs": [],
   "source": [
    "def cross_entropy_loss(model, x, y_target):\n",
    "  \n",
    "    # compute the output of the model\n",
    "    y, dual = model.forward(x)\n",
    "    \n",
    "    # compute the loss\n",
    "    index = round(y_target[0]) \n",
    "    log_softmax = y - np.log(np.sum(np.exp(y)))\n",
    "    loss = -log_softmax[index]\n",
    "    \n",
    "    # compute y_hat\n",
    "    y_hat = np.exp(log_softmax) \n",
    "    y_hat[index] -= 1\n",
    "    \n",
    "    # trigger backpropagation\n",
    "    dual(y_hat)\n",
    "    \n",
    "    return loss"
   ]
  },
  {
   "cell_type": "markdown",
   "metadata": {
    "colab_type": "text",
    "id": "TfoTv9Gij50g"
   },
   "source": [
    "**Exercise**: derive from scratch the code for `loss`, which combines the computation of softmax and the cross entropy into one step. \n",
    "\n",
    "**Harder exercise**: derive the code for `y_hat` from first principles. Hint: remember you are trying to compute $\\idld{y}$, and you will need to use the chain rule through the combined log-softmax operation. "
   ]
  },
  {
   "cell_type": "markdown",
   "metadata": {
    "colab_type": "text",
    "id": "TwmkxTNfOIof"
   },
   "source": [
    "Let's try it out:"
   ]
  },
  {
   "cell_type": "code",
   "execution_count": null,
   "metadata": {
    "colab": {},
    "colab_type": "code",
    "id": "F_cfCbifOJoP"
   },
   "outputs": [],
   "source": [
    "mnist_mlp_ce = Chain(Linear(28*28, 100), Relu(), Linear(100, 10))\n",
    "train(mnist_mlp_ce, sample_random_mnist_example, 1000, learning_rate=0.1, loss_function=cross_entropy_loss)  "
   ]
  },
  {
   "cell_type": "code",
   "execution_count": null,
   "metadata": {
    "colab": {},
    "colab_type": "code",
    "id": "ROIgnzJzOd0f"
   },
   "outputs": [],
   "source": [
    "measure_mnist_accuracy(mnist_mlp_ce, to_prediction=np.argmax)"
   ]
  },
  {
   "cell_type": "markdown",
   "metadata": {
    "colab_type": "text",
    "id": "BPWhfN9ckOro"
   },
   "source": [
    "We should see the accuracy here is much higher than when we used L2 loss! In fact, it should be in the range 95-99%. Here, the theoretical problems with L2 loss corresponded to a large deficit in actual accuracy!"
   ]
  },
  {
   "cell_type": "markdown",
   "metadata": {
    "colab_type": "text",
    "id": "A85P5E6mqCA3"
   },
   "source": [
    "## Conclusion"
   ]
  },
  {
   "cell_type": "markdown",
   "metadata": {
    "colab_type": "text",
    "id": "glGUQ3fyrUbU"
   },
   "source": [
    "In this practical we discussed what *gradients* of a differentiable function represent, how reverse-mode automatic differentiation allows us to calculate gradients, and how these correspond to vector-Jacobian products. We used this theoretical foundation to implement a simple deep learning framework that we used to train a multi-layer perceptron to solve the MNIST classification task, with good accuracy.\n",
    "\n",
    "By following this practical and understanding the underlying ideas you'll be in a much better position to understand how modern deep learning frameworks work, why it is efficient, and what you might need to do to implement your own advanced layers if you need to."
   ]
  },
  {
   "cell_type": "markdown",
   "metadata": {
    "colab_type": "text",
    "id": "H4BtEZY560av"
   },
   "source": [
    "## Extra reading\n",
    "\n",
    "* [Blogpost: Backpropagation by Chris Olah](http://colah.github.io/posts/2015-08-Backprop)\n",
    "\n",
    "* [Video: 3b1b episode about backpropogation](https://www.youtube.com/watch?v=tIeHLnjs5U8)\n",
    "\n",
    "* [Wikipedia page on automatic differentiation](https://en.wikipedia.org/wiki/Automatic_differentiation)\n",
    "\n",
    "### Advanced:\n",
    "\n",
    "* [Video: Lecture on Automatic Differentiation from the 2018 MLSS in Stellenbosch](https://www.youtube.com/watch?v=23ksBFYWIcM)\n",
    "\n",
    "* [Video: Some Principles of Differentiable Programming Languages from POPL2018](https://www.youtube.com/watch?v=qhPBfysSYI8)\n",
    "\n",
    "* [Wikipedia page on dual numbers](https://en.wikipedia.org/wiki/Dual_number)\n",
    "\n",
    "* [Paper: The simple essence of automatic differentiation](https://arxiv.org/abs/1804.00746) (ironically, this is not a particularly simple paper)"
   ]
  },
  {
   "cell_type": "markdown",
   "metadata": {
    "colab_type": "text",
    "id": "aEOanf1Uvaom"
   },
   "source": [
    "# Appendix"
   ]
  },
  {
   "cell_type": "markdown",
   "metadata": {
    "colab_type": "text",
    "id": "oQztwaYixYWu"
   },
   "source": [
    "This appendix will explain how to derive the code for the backward pass of the Linear and ReLU layers, using the vector-Jacobian product. It is optional reading, but strongly encouraged to help build your intuition and confidence with the mathematics that underlies automatic differentiation. It will also give you the confidence to try to write your own layers!"
   ]
  },
  {
   "cell_type": "markdown",
   "metadata": {
    "colab_type": "text",
    "id": "rNWYBtLHwn4j"
   },
   "source": [
    "## Recap of differentiation"
   ]
  },
  {
   "cell_type": "markdown",
   "metadata": {
    "colab_type": "text",
    "id": "EVF-jlkL7Gp-"
   },
   "source": [
    "Here is a quick list of some basic rules for rewriting sums, products, and derivatives that you can quickly review to make sure they are familiar. Here, $\\newcommand{\\defineblock}[2]{\\newcommand{#1}{#2{\\hspace{0.1ex}\\blacksquare \\hspace{0.1ex}}}#1} \\defineblock{\\xa}{\\red}$ and $\\defineblock{\\xb}{\\blue}$ stand for *any* expression you like, and remember, multiplication $\\times$ is not _normally_ written explicitly, it is implied when two expressions are next to each other, but we will use $\\times$ here to be clearer.\n",
    "\n",
    "1. Differentiating a sum:\n",
    "\n",
    "$$\n",
    "\\partialfrac{\\left(\\xa + \\ngapp \\xb\\right)}{x} \\gapp = \\gapp \\partialfrac{\\xa}{x} + \\partialfrac{\\xb}{x}\n",
    "$$\n",
    "\n",
    "2. Differentiating a product:\n",
    "\n",
    "$$\\partialfrac{\\left(\\xa \\times \\ngapp \\xb\\right)}{x} \\gapp = \\gapp \\xa \\times \\partialfrac{\\xb}{x} + \\xb \\times \\partialfrac{\\xa}{x}$$\n",
    "\n",
    "However, it's more common that *some* parts of an expression **do not** depend on $x$. Then you can apply simpler rules (which are special cases of the rules above). Again, $\\defineblock{\\xc}{\\color{gray} }$ and $\\defineblock{\\xd}{\\color{orange}}$ stand for *any* expression you like.\n",
    "\n",
    "3. Differentiating a sum when $\\xc$ **does not** depend on the variable $x$:\n",
    "\n",
    "$$\\partialfrac{\\left(\\xc + \\ngapp \\xd\\right)}{x} \\gapp = \\gapp \\partialfrac{\\xd}{x}$$\n",
    "\n",
    "4. Differentiating a product when $\\xc$ **does not** depend on the variable $x$:\n",
    "\n",
    "$$\\partialfrac{\\left(\\xc \\times \\ngapp \\xd\\right)}{x} \\gapp = \\gapp \\xc \\times \\partialfrac{\\xd}{x}$$\n",
    "\n",
    "5. Differentiating an expression $\\xc$ that **does not** depend on $x$ at all:\n",
    "\n",
    "$$\\partialfrac{\\xc}{x} = 0$$\n",
    "\n",
    "Lastly, there are two rules for sums $\\Sigma$ that are very useful:\n",
    "\n",
    "6. Factoring sum of products when $\\xc$ **does not** involve the summation index $i$:\n",
    "\n",
    "$$\\sum_i \\xc \\times \\ngapp \\xd \\gapp =\\gapp \\xc \\times \\sum_i \\xd$$\n",
    "\n",
    "7. Sum of products with a Kronecker delta:\n",
    "\n",
    "$$\\sum_i \\delta_{ij} \\times \\xd \\gapp = \\underbrace{\\hspace{1ex} \\xd \\hspace{1ex}  }_{\\textrm{$i$ replaced with $j$}}$$\n",
    "\n",
    "This last rule, and the meaning of the symbol $\\delta$, will be explained in the next section."
   ]
  },
  {
   "cell_type": "markdown",
   "metadata": {
    "colab_type": "text",
    "id": "IsjG4FqK2Ge4"
   },
   "source": [
    "#### The Kronecker delta symbol $\\delta_{ij}$\n",
    "\n"
   ]
  },
  {
   "cell_type": "markdown",
   "metadata": {
    "colab_type": "text",
    "id": "S_3vllyB8cLq"
   },
   "source": [
    "In the derivations that follow, we will be deriving expressions for the various vector-Jacobian products. A very common situation is that we will need to take the partial derivative of an indexed expression, like $b_i$ (which represents the $i$'th component of a vector $\\vec b$), with respect to something else. \n",
    "\n",
    "As you know, the symbol $i$ stands for an integer (this is always between 1 and some fixed integer that is the size of the vector or array, which is also left symbolic, like $n$ or $m$). \n",
    "\n",
    "Now, let's calculate the partial derivative of the component $b_i$ with respect to the component $b_j$. Here, $j$ is another symbolic integer. \n",
    "\n",
    "$$\\partialfrac{b_i}{b_j} = \\hspace{1ex}?$$\n",
    "\n",
    "Because $i$ and $j$ are *symbolic*, the value of this partial derivative depends on what values $i$ and $j$ take. Let's imagine the case where $i = 1$ and $j = 2$. Then the partial derivative $\\ipartialfrac{b_1}{b_2} = 0$, because $b_1$ and $b_2$ are independent parameters that have no effect on each other. But if $i = 3$ and $j = 3$, then the partial derivative $\\ipartialfrac{b_3}{b_3} = 1$, because the derivative of something with respect to itself is always 1!\n",
    "\n",
    "Therefore, what we need to fill in the \"?\" in the formula is a special symbol that depends on $i$ and $j$ that is equal to $1$ if $i$ is the same as $j$, and is equal to $0$ if $i$ is different from $j$. With this symbol we can keep computing symbolically without having to write out the different cases for $i$ and $j$.\n",
    "\n",
    "This symbol is very useful and is called the Kronecker delta. It is written $\\delta_{ij}$ (it can use any symbols, not just $i$ and $j$). \n",
    "\n",
    "Now we can write a symbolic result for the partial derivative from above:\n",
    "\n",
    "$$\\partialfrac{b_i}{b_j} = \\delta_{ij}$$"
   ]
  },
  {
   "cell_type": "markdown",
   "metadata": {
    "colab_type": "text",
    "id": "VjqgsWGw6sGV"
   },
   "source": [
    "How does this really help us with our calculations? It turns out that there is at least one 'trick' that makes the Kronecker symbol become very useful, and that is in simplifying sums. Consider the sum: \n",
    "\n",
    "$$\\sum_{i \\le n} x_i \\delta_{ij} = x_1 \\delta_{1j} + x_2 \\delta_{2j} + \\dots + x_n \\delta_{nj}$$\n",
    "\n",
    "Because the Kronecker is zero except for the single term $x_i \\delta_{ij}$ in the sum for which $i = j$, we can replace the entire sum with the single case $x_j$. \n",
    "\n",
    "This gives us the rule for how sums $\\sum_i$ and $\\delta_{ij}$ interact: you can replace the sum with a single expression in which all $i$ have been replaced with $j$ (this rule obviously works for any two symbolic indices, not just $i$ and $j$).\n",
    "\n"
   ]
  },
  {
   "cell_type": "markdown",
   "metadata": {
    "colab_type": "text",
    "id": "mWqZzugswL_Q"
   },
   "source": [
    "## Deriving the gradients for Linear layer"
   ]
  },
  {
   "cell_type": "markdown",
   "metadata": {
    "colab_type": "text",
    "id": "uv_p7h7Evgtz"
   },
   "source": [
    "This section explains how to derive the code that implements the gradients for the Linear layer."
   ]
  },
  {
   "cell_type": "markdown",
   "metadata": {
    "colab_type": "text",
    "id": "ot0EfCDz6xXB"
   },
   "source": [
    "\n",
    "The important thing is to understand that simplifying the vector-Jacobian product mathematically tells us the *numpy* code that we can use to efficiently compute the values of $\\What$, $\\bhat$, and $\\xhat$, using the values of $\\W$, $\\b$, $\\x$, and $\\yhat$!\n",
    "\n",
    "We must now do a bit of calculus to compute the actual values to use above. But before we begin, remember that the quantities we are working with are arrays, which means we will often need to work in terms of the *components* of a particular gradient, e.g. $\\hat{b}_i$ or $\\hat{\\W}_{ij}$. After we understood what the gradient is, we will switch back to array operations that we can express using the _numpy_ library. \n",
    "\n",
    "Before we start on the calculus, we're going to recap some simple rules for differentiation that we will need along the way."
   ]
  },
  {
   "cell_type": "markdown",
   "metadata": {
    "colab_type": "text",
    "id": "zRHUX7Kd6pqk"
   },
   "source": [
    "### Deriving the bias gradient"
   ]
  },
  {
   "cell_type": "markdown",
   "metadata": {
    "colab_type": "text",
    "id": "qM0zWIQ68jrI"
   },
   "source": [
    "We're now ready to begin deriving gradients. To help us, let's remind ourselves of the fundamental equation for our layer, because we'll need to substitute this into our calculations:\n",
    "\n",
    "$$ y_i = b_i + \\sum_j W_{ij} \\hspace{1mm} x_j$$"
   ]
  },
  {
   "cell_type": "markdown",
   "metadata": {
    "colab_type": "text",
    "id": "XrQLKK_r9lKy"
   },
   "source": [
    "Let's start with $\\bhat$, as this is simplest. Note that we switch from the hat notation to $\\partial$ notation at the beginning of the derivation, and switch back to hat notation at the end (the \":=\" means \"notation for\")."
   ]
  },
  {
   "cell_type": "markdown",
   "metadata": {
    "colab_type": "text",
    "id": "8epzfRR9arKY"
   },
   "source": [
    "\n",
    "\\begin{align}\n",
    "\\hat{b}_i :=& \\gapp \\dld{b_i} \\\\\n",
    "=& \\sum_j {\\dld{y_j} \\partialfrac{y_j}{b_i} } \\because{vector-Jacobian product} \\\\\n",
    "=& \\sum_j {\\dld{y_j} \\partialfrac{\\left(  b_j  + \\sum_k W_{jk} \\cdot x_k \\right)}{b_i}} \\because{definition of $y_j$} \\\\\n",
    "=& \\sum_j {\\dld{y_j} \\partialfrac{b_j }{b_i}} \\because{$\\W$ and $\\x$ are independent of $\\b$} \\\\\n",
    "=& \\sum_j {\\dld{y_j} \\delta_{ij}}\\\\\n",
    "=& \\gapp \\dld{y_i} \\because{$\\delta_{ij}$ selects term with $j = i$} \\\\\n",
    ":=& \\gapp \\hat{y}_i \n",
    "\\end{align}"
   ]
  },
  {
   "cell_type": "markdown",
   "metadata": {
    "colab_type": "text",
    "id": "MCGk8vX0Ndit"
   },
   "source": [
    "In other words, the gradient of the bias vector $\\mathbf b$ is simply the output of the linear layer, $\\mathbf y$. This is intuitive if you think about it: because the biases are added last, increasing each component of the bias directly increases the corresponding component of the output by the same amount."
   ]
  },
  {
   "cell_type": "markdown",
   "metadata": {
    "colab_type": "text",
    "id": "RBep3kkinCLc"
   },
   "source": [
    "**Exercise**: after reading the derivation above, try to recreate it from scratch without looking.\n",
    "\n",
    "Hint: It is very easy to make mistakes when doing calculus on arrays. The safest technique, which we are using here, is to analyze the result on a specific index, which lets us show that $\\bhat = \\yhat$ by showing that the components are equal ($\\hat{b}_i = \\hat{y}_i$). "
   ]
  },
  {
   "cell_type": "markdown",
   "metadata": {
    "colab_type": "text",
    "id": "B5QZ6l6bquT7"
   },
   "source": [
    "### Deriving the weights gradient"
   ]
  },
  {
   "cell_type": "markdown",
   "metadata": {
    "colab_type": "text",
    "id": "oG6CZJNp8cAj"
   },
   "source": [
    "The next calculation is for $\\hat W$. The first few steps are basically the same, so we'll focus on the part that is different:\n",
    "\n",
    "\n",
    "\\begin{align}\n",
    "\\hat{W}_{ij}\n",
    "=& \\sum_p {\\dld{y_p} \\partialfrac{\\left(  b_p  + \\sum_q W_{pq}x_q \\right)}{W_{ij}}} \\because{definition of $y_j$} \\\\\n",
    "=& \\sum_p {\\dld{y_p} \\sum_q \\partialfrac{W_{pq} }{W_{ij}} x_q  } \\because {$\\b$ is independent of $\\W$}\\\\\n",
    "=& \\sum_p {\\dld{y_p} \\sum_q \\delta_{(i,j)(p,q)} x_q } \\because{different components of $W$ are independent}\\\\\n",
    "=& \\sum_p {\\dld{y_p} \\sum_q \\delta_{ip} \\delta_{jq} x_q } \\because {$(i,j)=(p,q)$ implies $i=p$ and $j=q$} \\\\\n",
    "=& \\sum_p {\\dld{y_p} \\delta_{ip} x_j } \\because {$\\delta_{jq}$ selects term with $q=j$} \\\\\n",
    "=&  \\gapp {\\dld{y_i}  x_j } \\because{$\\delta_{ip}$ selects term with $p=i$}  \\\\\n",
    ":=& \\gapp \\hat{y}_i x_j \n",
    "\\end{align}"
   ]
  },
  {
   "cell_type": "markdown",
   "metadata": {
    "colab_type": "text",
    "id": "QnYYQshwfAVw"
   },
   "source": [
    "The expression we've found for the components of the gradient matrix $\\hat{\\mathbf W}$ is in fact the components of an operation called the \"outer product\" of two vectors, which is written as follows:\n",
    "\n",
    "$$\\hat{\\mathbf W} = \\hat{\\mathbf y} \\otimes \\mathbf x$$\n",
    "\n",
    "In numpy this is implemented using the function `np.outer`."
   ]
  },
  {
   "cell_type": "markdown",
   "metadata": {
    "colab_type": "text",
    "id": "74fXSCe07Zuk"
   },
   "source": [
    "**Optional Exercise**: look up the definition of `np.outer` using Google and try to write a function that takes `y_hat` and `x` and returns `W_hat`. Test it on some random arrays using `np.random.rand` of the made-up shapes for `y_hat` and `x` and make sure it runs without an error and returns a `W_hat` array of the shape you expect. We'll see the correct definition later, so you can compare your answer with that definition."
   ]
  },
  {
   "cell_type": "markdown",
   "metadata": {
    "colab_type": "text",
    "id": "JY_kH2tRAcJ6"
   },
   "source": [
    "### Deriving the input gradient"
   ]
  },
  {
   "cell_type": "markdown",
   "metadata": {
    "colab_type": "text",
    "id": "2ALkYeYiVgNZ"
   },
   "source": [
    "Lastly we need to derive the expression for $\\hat{\\mathbf x}$. Again the start is pretty similar, so we'll start at the step of the derivation where things become different:\n",
    "\n",
    "\\begin{align}\n",
    "\\hat{x}_i =& \\sum_j {\\dld{y_j} \\partialfrac{\\left(  b_j  + \\sum_k W_{jk}x_k \\right)}{x_i}} \\because{definition of $y_j$} \\\\\n",
    "=& \\sum_j {\\dld{y_j} \\partialfrac{\\left(\\sum_k W_{jk}x_k \\right)}{x_i}} \\because {$\\b$ is independent of $\\x$} \\\\\n",
    "=& \\sum_j {\\dld{y_j} \\sum_k W_{jk}\\partialfrac{x_k}{x_i}} \\\\ \n",
    "=& \\sum_j \\dld{y_j} \\sum_k W_{jk} \\delta_{ki} \\\\\n",
    "=& \\sum_j \\dld{y_j} W_{ji} \\because {$\\delta_{ki}$ selects term with $k = i$}\\\\\n",
    ":=& \\sum_j \\hat{y}_j W_{ji} \n",
    "\\end{align}\n",
    "\n",
    "This expression gives the components of a matrix product, so $\\mathbf{\\hat{x}}$ can be writen as:\n",
    "\n",
    "$$\n",
    "\\mathbf{\\hat{x}} = \\mathbf{W}^T \\mathbf{\\hat{y}} \n",
    "$$\n",
    "\n",
    "Note that $\\mathbf{W}$ is transposed, which is a result of the indices in our component expression being swapped ($W_{ji}$ vs $W_{ij}$). We can implement this using the function `np.dot`."
   ]
  },
  {
   "cell_type": "markdown",
   "metadata": {
    "colab_type": "text",
    "id": "r3u0JNQ_7vM4"
   },
   "source": [
    "**Optional Exercise**: look up the definition of `np.dot` and try to write a function that takes `y_hat` and `W` and returns `x_hat`. As before, test it on some random arrays to make sure it produces the right shape of array."
   ]
  },
  {
   "cell_type": "markdown",
   "metadata": {
    "colab_type": "text",
    "id": "VGT-OYfqweuE"
   },
   "source": [
    "## Deriving the gradient for the ReLU layer"
   ]
  },
  {
   "cell_type": "markdown",
   "metadata": {
    "colab_type": "text",
    "id": "SeWP50aqwiDs"
   },
   "source": [
    "Recall that $y_i = \\mathrm{relu}(x_i)$, so \n",
    "\n",
    "\\begin{align}\n",
    "\\hat{x}_i =& \\sum_j {\\dld{y_j} \\partialfrac{\\left(\\relu{x_j}\\right)}{x_i}  } \\because{definition of $y_j$} \\\\\n",
    "=& \\sum_j {\\dld{y_j} \\partialfrac{\\left(\\relu{x_i}\\right)}{x_i} } \\gap \\delta_{ji} \\because {relu is elementwise}\\\\\n",
    "=& \\sum_j \\dld{y_j} \\step{x_i} \\gap \\delta_{ji} \\because {derivative of relu is step}\\\\\n",
    "=& \\gap \\dld{y_i} \\step{x_i} \\because {$\\delta_{ji}$ selects term with $j = i$}\\\\\n",
    ":=& \\gapp \\hat{y}_i \\gap \\step{x_i}\n",
    "\\end{align}\n",
    "\n",
    "We can write this as $\\xhat = \\yhat \\odot \\step \\x$, where $\\odot$ means the element-wise multiplication of the two vectors.\n",
    "\n",
    "Let's check if this makes sense in the two cases: \n",
    "\n",
    "* if $x_i<0$, changing $x_i$ has no effect on $y_i$, because $y_i=\\relu{x_i}=0$ is constant around the value of $x_i$. Therefore the gradient $\\hat{x}_i=0$. \n",
    "\n",
    "* if $x_i>0$, changing $x_i$ changes $y_i$ by the same amount. Therefore the gradient $\\hat{x}_i = \\hat{y}_i$. \n",
    "\n",
    "This is exactly what the elementwise multiplication with $\\step{\\x}$ achieves! Good!\n",
    "\n",
    "In `numpy` we can write the step function using the overloaded\\* array syntax `x > 0`, and we can write the element-wise multiplication $\\odot$ using the overloaded array syntax `x * y`. This overloaded syntax makes our definition of `relu` very easy, as you can see below.\n",
    "\n",
    "<small>* Note that the term \"overloaded\" means that `>` and `*` syntax have been defined to have a special meaning for numpy arrays. Python normally only defines these operators for single numbers.</small>"
   ]
  }
 ],
 "metadata": {
  "colab": {
   "collapsed_sections": [],
   "include_colab_link": true,
   "name": "Practical 1b: Build Your Own TF.ipynb",
   "private_outputs": true,
   "provenance": [],
   "version": "0.3.2"
  },
  "kernelspec": {
   "display_name": "Python 3",
   "language": "python",
   "name": "python3"
  },
  "language_info": {
   "codemirror_mode": {
    "name": "ipython",
    "version": 3
   },
   "file_extension": ".py",
   "mimetype": "text/x-python",
   "name": "python",
   "nbconvert_exporter": "python",
   "pygments_lexer": "ipython3",
   "version": "3.8.5"
  }
 },
 "nbformat": 4,
 "nbformat_minor": 1
}
